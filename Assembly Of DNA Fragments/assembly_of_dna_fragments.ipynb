{
  "nbformat": 4,
  "nbformat_minor": 0,
  "metadata": {
    "colab": {
      "provenance": []
    },
    "kernelspec": {
      "name": "python3",
      "display_name": "Python 3"
    },
    "language_info": {
      "name": "python"
    }
  },
  "cells": [
    {
      "cell_type": "code",
      "execution_count": 1,
      "metadata": {
        "colab": {
          "base_uri": "https://localhost:8080/"
        },
        "id": "meV6xFIMSjS7",
        "outputId": "dba1697a-17f4-4d73-8a04-f88a4d3805d7"
      },
      "outputs": [
        {
          "output_type": "stream",
          "name": "stdout",
          "text": [
            "Mounted at /content/drive\n",
            "\u001b[0m\u001b[01;34mdrive\u001b[0m/  \u001b[01;34msample_data\u001b[0m/\n"
          ]
        }
      ],
      "source": [
        "\n",
        "from google.colab import drive\n",
        "drive.mount('/content/drive')\n",
        "\n",
        "%ls\n"
      ]
    },
    {
      "cell_type": "code",
      "source": [
        "%cd /content/drive/MyDrive/UCSP/IX CICLO/Molecular/ensamblaje de ADN\n",
        "%ls"
      ],
      "metadata": {
        "colab": {
          "base_uri": "https://localhost:8080/"
        },
        "id": "3xBbE6ouTmme",
        "outputId": "b2862af1-f37d-4a66-b53f-5c73835c625c"
      },
      "execution_count": 2,
      "outputs": [
        {
          "output_type": "stream",
          "name": "stdout",
          "text": [
            "/content/drive/MyDrive/UCSP/IX CICLO/Molecular/ensamblaje de ADN\n",
            "'assembly of dna fragments.ipynb'\n"
          ]
        }
      ]
    },
    {
      "cell_type": "code",
      "source": [
        "%%writefile  main.cpp\n",
        "#include <iostream>\n",
        "#include <vector>\n",
        "#include <string>\n",
        "#include <algorithm>\n",
        "#include <unordered_map>\n",
        "#include <cmath>\n",
        "#include <limits>\n",
        "\n",
        "using namespace std;\n",
        "\n",
        "// Función para encontrar el complemento reverso de una secuencia\n",
        "string reverseComplement(const string& seq) {\n",
        "    string result = seq;\n",
        "    reverse(result.begin(), result.end());\n",
        "    for (char& c : result) {\n",
        "        switch (c) {\n",
        "            case 'A': c = 'T'; break;\n",
        "            case 'T': c = 'A'; break;\n",
        "            case 'C': c = 'G'; break;\n",
        "            case 'G': c = 'C'; break;\n",
        "        }\n",
        "    }\n",
        "    return result;\n",
        "}\n",
        "\n",
        "// Calcula el máximo solapamiento entre dos secuencias\n",
        "int calculateOverlap(const string& a, const string& b) {\n",
        "    for (int i = min(a.length(), b.length()); i > 0; --i) {\n",
        "        if (a.substr(a.length() - i) == b.substr(0, i)) {\n",
        "            return i;\n",
        "        }\n",
        "    }\n",
        "    return 0;\n",
        "}\n",
        "\n",
        "// Función para encontrar la secuencia de consenso\n",
        "string findConsensusSequence(const vector<string>& sequences, int targetLength) {\n",
        "    vector<string> allSeqs = sequences;\n",
        "    for (const auto& seq : sequences) {\n",
        "        allSeqs.push_back(reverseComplement(seq));\n",
        "    }\n",
        "\n",
        "    string consensus;\n",
        "    vector<bool> used(allSeqs.size(), false);\n",
        "\n",
        "    // Comienza con la secuencia más larga\n",
        "    auto it = max_element(allSeqs.begin(), allSeqs.end(),\n",
        "                          [](const string& a, const string& b) { return a.length() < b.length(); });\n",
        "    consensus = *it;\n",
        "    used[it - allSeqs.begin()] = true;\n",
        "\n",
        "    while (consensus.length() < targetLength) {\n",
        "        int bestOverlap = 0;\n",
        "        string bestSeq;\n",
        "        bool prepend = false;\n",
        "\n",
        "        for (int i = 0; i < allSeqs.size(); ++i) {\n",
        "            if (!used[i]) {\n",
        "                int overlapStart = calculateOverlap(consensus, allSeqs[i]);\n",
        "                int overlapEnd = calculateOverlap(allSeqs[i], consensus);\n",
        "\n",
        "                if (overlapStart > bestOverlap) {\n",
        "                    bestOverlap = overlapStart;\n",
        "                    bestSeq = allSeqs[i];\n",
        "                    prepend = false;\n",
        "                }\n",
        "\n",
        "                if (overlapEnd > bestOverlap) {\n",
        "                    bestOverlap = overlapEnd;\n",
        "                    bestSeq = allSeqs[i];\n",
        "                    prepend = true;\n",
        "                }\n",
        "            }\n",
        "        }\n",
        "\n",
        "        if (bestOverlap == 0) break;\n",
        "\n",
        "        if (prepend) {\n",
        "            consensus = bestSeq.substr(0, bestSeq.length() - bestOverlap) + consensus;\n",
        "        } else {\n",
        "            consensus += bestSeq.substr(bestOverlap);\n",
        "        }\n",
        "\n",
        "        used[find(allSeqs.begin(), allSeqs.end(), bestSeq) - allSeqs.begin()] = true;\n",
        "    }\n",
        "\n",
        "    // Ajusta la longitud a targetLength\n",
        "    if (consensus.length() > targetLength) {\n",
        "        int excess = consensus.length() - targetLength;\n",
        "        consensus = consensus.substr(excess / 2, targetLength);\n",
        "    } else while (consensus.length() < targetLength) {\n",
        "            consensus += 'N';\n",
        "        }\n",
        "\n",
        "    return consensus;\n",
        "}\n",
        "\n",
        "// Función para construir el grafo de overlaps\n",
        "vector<vector<int>> buildOverlapGraph(const vector<string>& sequences, int t) {\n",
        "    int n = sequences.size();\n",
        "    vector<vector<int>> graph(n, vector<int>(n, 0));\n",
        "\n",
        "    for (int i = 0; i < n; ++i) {\n",
        "        for (int j = 0; j < n; ++j) {\n",
        "            if (i != j) {\n",
        "                int overlap = calculateOverlap(sequences[i], sequences[j]);\n",
        "                if (overlap >= t) {\n",
        "                    graph[i][j] = overlap; // Guardar el peso de la arista (el solapamiento)\n",
        "                }\n",
        "            }\n",
        "        }\n",
        "    }\n",
        "\n",
        "    return graph;\n",
        "}\n",
        "\n",
        "// Función para visualizar el grafo de overlaps\n",
        "void visualizeGraph(const vector<string>& sequences, const vector<vector<int>>& graph) {\n",
        "    int n = sequences.size();\n",
        "    for (int i = 0; i < n; ++i) {\n",
        "        for (int j = 0; j < n; ++j) {\n",
        "            if (graph[i][j] > 0) {\n",
        "                cout << sequences[i] << \" conecta con \" << sequences[j]\n",
        "                     << \" con un peso de \" << graph[i][j] << endl;\n",
        "            }\n",
        "        }\n",
        "    }\n",
        "}\n",
        "\n",
        "// Función Greedy para buscar el camino Hamiltoniano\n",
        "string findHamiltonianPath(const vector<string>& sequences, const vector<vector<int>>& graph) {\n",
        "    int n = sequences.size();\n",
        "    vector<bool> visited(n, false);\n",
        "    string result;\n",
        "\n",
        "    // Empieza con el primer nodo no visitado\n",
        "    int current = 0;\n",
        "    visited[current] = true;\n",
        "    result = sequences[current];\n",
        "\n",
        "    for (int step = 1; step < n; ++step) {\n",
        "        int bestNext = -1;\n",
        "        int bestWeight = 0;\n",
        "\n",
        "        // Busca la siguiente mejor arista (máximo solapamiento)\n",
        "        for (int i = 0; i < n; ++i) {\n",
        "            if (!visited[i] && graph[current][i] > bestWeight) {\n",
        "                bestWeight = graph[current][i];\n",
        "                bestNext = i;\n",
        "            }\n",
        "        }\n",
        "\n",
        "        if (bestNext == -1) break; // No hay más aristas válidas\n",
        "\n",
        "        // Agrega la secuencia al resultado\n",
        "        result += sequences[bestNext].substr(bestWeight);\n",
        "        visited[bestNext] = true;\n",
        "        current = bestNext;\n",
        "    }\n",
        "\n",
        "    return result;\n",
        "}\n",
        "\n",
        "int main() {\n",
        "    // Conjunto de secuencias\n",
        "    vector<string> sequences = {\n",
        "            \"ATCCGTTGAAGCCGCGGGC\",\n",
        "            \"TTAACTCGAGG\",\n",
        "            \"TTAAGTACTGCCCG\",\n",
        "            \"ATCTGTGTCGGG\",\n",
        "            \"CGACTCCCGACACA\",\n",
        "            \"CACAGATCCGTTGAAGCCGCGGG\",\n",
        "            \"CTCGAGTTAAGTA\",\n",
        "            \"CGCGGGCAGTACTT\"\n",
        "    };\n",
        "\n",
        "    int targetLength = 55;\n",
        "    int linkageT = 3; // Definir valor de linkage t\n",
        "\n",
        "    // Encuentra la secuencia de consenso\n",
        "    string consensusSequence = findConsensusSequence(sequences, targetLength);\n",
        "    cout << \"Secuencia de consenso (longitud \" << consensusSequence.length() << \"):\" << endl;\n",
        "    cout << consensusSequence << endl;\n",
        "\n",
        "    // Construye el grafo de overlaps\n",
        "    vector<vector<int>> overlapGraph = buildOverlapGraph(sequences, linkageT);\n",
        "\n",
        "    // Visualiza el grafo\n",
        "    cout << \"\\nVisualizacion del grafo de overlaps:\" << endl;\n",
        "    visualizeGraph(sequences, overlapGraph);\n",
        "\n",
        "    // Busca el camino Hamiltoniano\n",
        "    string hamiltonianPath = findHamiltonianPath(sequences, overlapGraph);\n",
        "    cout << \"\\nCamino Hamiltoniano encontrado:\" << endl;\n",
        "    cout << hamiltonianPath << endl;\n",
        "\n",
        "    return 0;\n",
        "}\n"
      ],
      "metadata": {
        "colab": {
          "base_uri": "https://localhost:8080/"
        },
        "id": "wCmT-IjTUAWQ",
        "outputId": "8e8fca94-509d-4102-8cd3-a3f0d4f34ebd"
      },
      "execution_count": 3,
      "outputs": [
        {
          "output_type": "stream",
          "name": "stdout",
          "text": [
            "Writing main.cpp\n"
          ]
        }
      ]
    },
    {
      "cell_type": "code",
      "source": [
        "!g++ main.cpp -o main\n",
        "!./main"
      ],
      "metadata": {
        "colab": {
          "base_uri": "https://localhost:8080/"
        },
        "id": "IFI0jinYULo-",
        "outputId": "7c5b8618-ec82-4921-e306-f3072e481a8e"
      },
      "execution_count": 4,
      "outputs": [
        {
          "output_type": "stream",
          "name": "stdout",
          "text": [
            "Secuencia de consenso (longitud 55):\n",
            "AGTACTGCCCGACTCCCGACACAGATCCGTTGAAGCCGCGGGCAGTACTTAACTC\n",
            "\n",
            "Visualizacion del grafo de overlaps:\n",
            "ATCCGTTGAAGCCGCGGGC conecta con CGCGGGCAGTACTT con un peso de 7\n",
            "CGACTCCCGACACA conecta con CACAGATCCGTTGAAGCCGCGGG con un peso de 4\n",
            "CACAGATCCGTTGAAGCCGCGGG conecta con ATCCGTTGAAGCCGCGGGC con un peso de 18\n",
            "CACAGATCCGTTGAAGCCGCGGG conecta con CGCGGGCAGTACTT con un peso de 6\n",
            "CTCGAGTTAAGTA conecta con TTAAGTACTGCCCG con un peso de 7\n",
            "\n",
            "Camino Hamiltoniano encontrado:\n",
            "ATCCGTTGAAGCCGCGGGCAGTACTT\n"
          ]
        }
      ]
    },
    {
      "cell_type": "code",
      "source": [
        "import matplotlib.pyplot as plt\n",
        "import networkx as nx\n",
        "\n",
        "# Crear un grafo dirigido\n",
        "G = nx.DiGraph()\n",
        "\n",
        "# Añadir los nodos (secuencias)\n",
        "\"\"\"\n",
        "A: ATCCGTTGAAGCCGCGGGC\n",
        "B: CGCGGGCAGTACTT\n",
        "C: CGACTCCCGACACA\n",
        "D: CACAGATCCGTTGAAGCCGCGGG\n",
        "E: CTCGAGTTAAGTA\n",
        "F: TTAAGTACTGCCCG\n",
        "\"\"\"\n",
        "nodos = [\n",
        "    \"A\",\n",
        "    \"B\",\n",
        "    \"C\",\n",
        "    \"D\",\n",
        "    \"E\",\n",
        "    \"F\"\n",
        "]\n",
        "\n",
        "# Añadir los arcos (conexiones entre nodos con el peso del overlap)\n",
        "arcos = [\n",
        "    (\"A\", \"B\", 7),\n",
        "    (\"C\", \"D\", 4),\n",
        "    (\"D\", \"A\", 18),\n",
        "    (\"D\", \"B\", 6),\n",
        "    (\"E\", \"F\", 7)\n",
        "]\n",
        "\n",
        "# Añadir nodos al grafo\n",
        "G.add_nodes_from(nodos)\n",
        "\n",
        "# Añadir arcos con pesos\n",
        "for arco in arcos:\n",
        "    G.add_edge(arco[0], arco[1], weight=arco[2])\n",
        "\n",
        "# Configurar el tamaño de la figura\n",
        "plt.figure(figsize=(12, 8))  # Aumentar tamaño de la figura\n",
        "\n",
        "# Posición de los nodos, aumentando k para una mayor separación\n",
        "pos = nx.spring_layout(G, seed=42, k=0.8)  # Aumentar k para separar más los nodos\n",
        "\n",
        "# Dibujar los nodos con un tamaño mayor\n",
        "nx.draw_networkx_nodes(G, pos, node_size=3000, node_color='lightblue')\n",
        "\n",
        "# Dibujar los arcos con flechas más grandes y líneas más gruesas\n",
        "nx.draw_networkx_edges(G, pos, edgelist=arcos, arrowstyle='->', arrowsize=30, edge_color='gray', width=2)\n",
        "\n",
        "# Añadir etiquetas a los nodos con fuente más grande\n",
        "nx.draw_networkx_labels(G, pos, font_size=15, font_family='sans-serif', font_weight='bold')\n",
        "\n",
        "# Añadir etiquetas de pesos a los arcos con fuente más grande\n",
        "edge_labels = nx.get_edge_attributes(G, 'weight')\n",
        "nx.draw_networkx_edge_labels(G, pos, edge_labels=edge_labels, font_size=12)\n",
        "\n",
        "# Título de la visualización con fuente más grande\n",
        "plt.title('Overlap Graph and Consensus Sequence', size=20)\n",
        "\n",
        "# Ajustar los márgenes para que todo el gráfico sea visible\n",
        "plt.tight_layout()\n",
        "\n",
        "# Mostrar el gráfico\n",
        "plt.show()\n"
      ],
      "metadata": {
        "colab": {
          "base_uri": "https://localhost:8080/",
          "height": 807
        },
        "id": "-zS_0Ymn0KDh",
        "outputId": "1e43cd7b-0dd9-4de8-8bf6-5fa9e17c96c6"
      },
      "execution_count": 9,
      "outputs": [
        {
          "output_type": "display_data",
          "data": {
            "text/plain": [
              "<Figure size 1200x800 with 1 Axes>"
            ],
            "image/png": "[encoded data removed]"
          },
          "metadata": {}
        }
      ]
    },
    {
      "cell_type": "code",
      "source": [],
      "metadata": {
        "id": "dOXk8zRA0Wsd"
      },
      "execution_count": null,
      "outputs": []
    }
  ]
}